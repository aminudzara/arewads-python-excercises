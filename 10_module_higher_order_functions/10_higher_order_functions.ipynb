{
 "cells": [
  {
   "cell_type": "markdown",
   "metadata": {},
   "source": [
    "# Higher Order Functions"
   ]
  },
  {
   "cell_type": "markdown",
   "metadata": {},
   "source": [
    "### Exercises: Level 1"
   ]
  },
  {
   "cell_type": "markdown",
   "metadata": {},
   "source": [
    "Task 1: Explain the difference between map, filter, and reduce."
   ]
  },
  {
   "cell_type": "markdown",
   "metadata": {},
   "source": [
    "**Map**: The `map()` function applies a given function to each item in an iterable, transforming all the items (e.g., squaring numbers).\n",
    "\n",
    "**Filter**: The `filter()` function selects items from an iterable based on a condition, keeping only those that satisfy it (e.g., filtering even numbers).\n",
    "\n",
    "**Reduce**: The `reduce()` function combines all items in an iterable into a single value using a specified operation (e.g., multiplying all numbers).\n",
    "\n",
    "While `map` focuses on transformation, `filter` focuses on selection, and `reduce` focuses on aggregation."
   ]
  },
  {
   "cell_type": "markdown",
   "metadata": {},
   "source": [
    "Task 2: Explain the difference between higher order function, closure and decorator"
   ]
  },
  {
   "cell_type": "markdown",
   "metadata": {},
   "source": [
    "**Higher Order Function**: A higher order function is a function that takes other functions as arguments or returns them as results, enabling flexible and reusable code.\n",
    "\n",
    "**Closure**: A closure is a function that retains access to variables from its defining scope even after that scope has exited, allowing the creation of functions with private data.\n",
    "\n",
    "**Decorator**: A decorator is a specialized higher-order function used to modify or extend the behavior of another function, often for purposes like logging or access control."
   ]
  },
  {
   "cell_type": "markdown",
   "metadata": {},
   "source": [
    "Task 3: Define a call function before map, filter or reduce, see examples."
   ]
  },
  {
   "cell_type": "code",
   "execution_count": null,
   "metadata": {},
   "outputs": [],
   "source": []
  },
  {
   "cell_type": "markdown",
   "metadata": {},
   "source": [
    "Task 4: Use for loop to print each country in the countries list."
   ]
  },
  {
   "cell_type": "code",
   "execution_count": null,
   "metadata": {},
   "outputs": [],
   "source": [
    "countries = ['Estonia', 'Finland', 'Sweden', 'Denmark', 'Norway', 'Iceland']"
   ]
  },
  {
   "cell_type": "markdown",
   "metadata": {},
   "source": [
    "Task 5: Use for to print each name in the names list."
   ]
  },
  {
   "cell_type": "code",
   "execution_count": null,
   "metadata": {},
   "outputs": [],
   "source": [
    "names = ['Asabeneh', 'Lidiya', 'Ermias', 'Abraham']"
   ]
  },
  {
   "cell_type": "markdown",
   "metadata": {},
   "source": [
    "Task 6: Use for to print each number in the numbers list."
   ]
  },
  {
   "cell_type": "code",
   "execution_count": null,
   "metadata": {},
   "outputs": [],
   "source": [
    "numbers = [1, 2, 3, 4, 5, 6, 7, 8, 9, 10]"
   ]
  }
 ],
 "metadata": {
  "kernelspec": {
   "display_name": "arewads",
   "language": "python",
   "name": "python3"
  },
  "language_info": {
   "name": "python",
   "version": "3.10.15"
  }
 },
 "nbformat": 4,
 "nbformat_minor": 2
}
