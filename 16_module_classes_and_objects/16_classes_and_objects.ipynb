{
 "cells": [
  {
   "cell_type": "markdown",
   "metadata": {},
   "source": [
    "# Classes"
   ]
  },
  {
   "cell_type": "markdown",
   "metadata": {},
   "source": [
    "### Exercses: Level 1"
   ]
  },
  {
   "cell_type": "markdown",
   "metadata": {},
   "source": [
    "Task 1: Python has the module called statistics and we can use this module to do all the statistical calculations. However, to learn how to make function and reuse function let us try to develop a program, which calculates the measure of central tendency of a sample (mean, median, mode) and measure of variability (range, variance, standard deviation). In addition to those measures, find the min, max, count, percentile, and frequency distribution of the sample. You can create a class called Statistics and create all the functions that do statistical calculations as methods for the Statistics class. Check the output below."
   ]
  },
  {
   "cell_type": "code",
   "execution_count": 3,
   "metadata": {},
   "outputs": [],
   "source": [
    "class describe:\n",
    "    \"\"\"Calculate statistics of a list of numbers\"\"\"\n",
    "\n",
    "    def __init__(self, data):\n",
    "        \"\"\"Initialize the statistics object with the data\"\"\"\n",
    "        self.data = data\n",
    "\n",
    "    def count(self):\n",
    "        \"\"\"Return the number of elements in the data\"\"\"\n",
    "        return len(self.data)\n",
    "    \n",
    "    def sum(self):\n",
    "        \"\"\"Return the sum of the data\"\"\"\n",
    "        return sum(self.data)\n",
    "    \n",
    "    def max(self):\n",
    "        \"\"\"Return the maximun value of the data\"\"\"\n",
    "        return max(self.data)\n",
    "    \n",
    "    def min(self):\n",
    "        \"\"\"Return the minimun value of the data\"\"\"\n",
    "        return min(self.data)\n",
    "    \n",
    "    def mean(self):\n",
    "        \"\"\"Calculate the mean of the data\"\"\"\n",
    "        return round(sum(self.data) / len(self.data))\n",
    "\n",
    "    def median(self):\n",
    "        \"\"\"Find the median of the data\"\"\"\n",
    "        sorted_data = sorted(self.data)\n",
    "        n = len(sorted_data)\n",
    "        if n % 2 == 0:\n",
    "            return (sorted_data[n//2 - 1] + sorted_data[n//2]) / 2\n",
    "        else:\n",
    "            return sorted_data[n//2]\n",
    "\n",
    "    def mode(self):\n",
    "        \"\"\"Find the mode of the data\"\"\"\n",
    "        counter = {}\n",
    "        for i in self.data:\n",
    "            if i in counter:\n",
    "                counter[i] += 1\n",
    "            else:\n",
    "                counter[i] = 1\n",
    "        max_count = max(counter.values())\n",
    "        mode = [k for k, v in counter.items() if v == max_count]\n",
    "        return {'mode': mode[0], 'count': max_count}\n",
    "\n",
    "    def range(self):\n",
    "        \"\"\"Calculate the range of the data\"\"\"\n",
    "        return max(self.data) - min(self.data)\n",
    "\n",
    "    def var(self):\n",
    "        \"\"\"Calculate the variance of the data\"\"\"\n",
    "        mean = self.mean()\n",
    "        return sum([(x - mean) ** 2 for x in self.data]) / len(self.data)\n",
    "\n",
    "    def std(self):\n",
    "        \"\"\"Calculate the standard deviation of the data\"\"\"\n",
    "        return round(self.var() ** 0.5, 2)\n",
    "\n",
    "    def freq_dist(self):\n",
    "        \"\"\"Return the frequency distribution of the data\"\"\"\n",
    "        counter = {}\n",
    "        for i in self.data:\n",
    "            if i in counter:\n",
    "                counter[i] += 1\n",
    "            else:\n",
    "                counter[i] = 1\n",
    "        return list(counter.items())"
   ]
  },
  {
   "cell_type": "code",
   "execution_count": null,
   "metadata": {},
   "outputs": [],
   "source": [
    "# Output\n",
    "ages = [31, 26, 34, 37, 27, 26, 32, 32, 26, 27, 27, 24, 32, 33, 27, 25, 26, 38\n",
    "        , 37, 31, 34, 24, 33, 29, 26]\n",
    "\n",
    "data = describe(ages)\n",
    "print('Count:', data.count()) # 25\n",
    "print('Sum: ', data.sum()) # 744\n",
    "print('Min: ', data.min()) # 24\n",
    "print('Max: ', data.max()) # 38\n",
    "print('Range: ', data.range()) # 14\n",
    "print('Mean: ', data.mean()) # 30\n",
    "print('Median: ', data.median()) # 29\n",
    "print('Mode: ', data.mode()) # {'mode': 26, 'count': 5}\n",
    "print('Standard Deviation: ', data.std()) # 4.2\n",
    "print('Variance: ', data.var()) # 17.5\n",
    "print('Frequency Distribution: ', data.freq_dist()) # [(20.0, 26), (16.0, 27)\n",
    "# , (12.0, 32), (8.0, 37), (8.0, 34), (8.0, 33), (8.0, 31), (8.0, 24), (4.0, 38)\n",
    "# , (4.0, 29), (4.0, 25)]"
   ]
  },
  {
   "cell_type": "markdown",
   "metadata": {},
   "source": [
    "### Exercises: Level 2"
   ]
  }
 ],
 "metadata": {
  "kernelspec": {
   "display_name": "base",
   "language": "python",
   "name": "python3"
  },
  "language_info": {
   "codemirror_mode": {
    "name": "ipython",
    "version": 3
   },
   "file_extension": ".py",
   "mimetype": "text/x-python",
   "name": "python",
   "nbconvert_exporter": "python",
   "pygments_lexer": "ipython3",
   "version": "3.12.3"
  }
 },
 "nbformat": 4,
 "nbformat_minor": 2
}
