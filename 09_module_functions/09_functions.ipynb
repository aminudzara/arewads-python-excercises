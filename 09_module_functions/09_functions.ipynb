{
 "cells": [
  {
   "cell_type": "markdown",
   "metadata": {},
   "source": [
    "# Functions"
   ]
  },
  {
   "cell_type": "markdown",
   "metadata": {},
   "source": [
    "### Exercises: Level 1"
   ]
  },
  {
   "cell_type": "markdown",
   "metadata": {},
   "source": [
    "Task 1: Declare a function add_two_numbers. It takes two parameters and it returns a sum."
   ]
  },
  {
   "cell_type": "code",
   "execution_count": null,
   "metadata": {},
   "outputs": [],
   "source": [
    "def add_two_numbers(num_one, num_two):\n",
    "    \"\"\"Add two numbers together and return the sum.\"\"\"\n",
    "    return (num_one + num_two)\n",
    "\n",
    "print(add_two_numbers(1, 2))    # 3"
   ]
  },
  {
   "cell_type": "markdown",
   "metadata": {},
   "source": [
    "Task 2: Area of a circle is calculated as follows: area = π x r x r. Write a function that calculates area_of_circle."
   ]
  },
  {
   "cell_type": "code",
   "execution_count": null,
   "metadata": {},
   "outputs": [],
   "source": [
    "def area_of_circle(radius):\n",
    "    \"\"\"Calculate the area of a circle given the radius.\"\"\"\n",
    "    PI = 3.14\n",
    "    return (PI * radius ** 2)\n",
    "\n",
    "print(area_of_circle(5))    # 78.5"
   ]
  },
  {
   "cell_type": "markdown",
   "metadata": {},
   "source": [
    "Task 3: Write a function called add_all_nums which takes arbitrary number of arguments and sums all the arguments. Check if all the list items are number types. If not do give a reasonable feedback."
   ]
  },
  {
   "cell_type": "code",
   "execution_count": null,
   "metadata": {},
   "outputs": [],
   "source": [
    "def add_all_nums(*nums):\n",
    "    \"\"\"Add all numbers in the input.\"\"\"\n",
    "    sum = 0\n",
    "    for num in nums:\n",
    "        if isinstance(num, (int, float)):\n",
    "            sum += num\n",
    "        else:\n",
    "            return \"The function expects number inputs.\"\n",
    "    return sum\n",
    "\n",
    "print(add_all_nums(1, 2, 3, 4, '5'))    # The function expects number inputs."
   ]
  },
  {
   "cell_type": "markdown",
   "metadata": {},
   "source": [
    "Task 4: Temperature in °C can be converted to °F using this formula: °F = (°C x 9/5) + 32. Write a function which converts °C to °F, convert_celsius_to-fahrenheit."
   ]
  },
  {
   "cell_type": "code",
   "execution_count": null,
   "metadata": {},
   "outputs": [],
   "source": [
    "def convert_celcius_to_fahrenheit(celcius):\n",
    "    \"\"\"Converts celcius to fahrenheit.\"\"\"\n",
    "    return (celcius * 9 / 5) + 32 \n",
    "\n",
    "print(convert_celcius_to_fahrenheit(37))    # 98.6"
   ]
  },
  {
   "cell_type": "markdown",
   "metadata": {},
   "source": [
    "Task 5: Write a function called check-season, it takes a month parameter and returns the season: Autumn, Winter, Spring or Summer."
   ]
  },
  {
   "cell_type": "code",
   "execution_count": null,
   "metadata": {},
   "outputs": [],
   "source": [
    "def check_season(month):\n",
    "    \"\"\"Return the season of the year based on the month input.\"\"\"\n",
    "    if month in [\"September\", \"October\", \"November\"]:\n",
    "        season = \"Autumn\"\n",
    "    elif month in [\"December\", \"January\", \"February\"]:\n",
    "        season = \"Winter\"\n",
    "    elif month in [\"March\", \"April\", \"May\"]:\n",
    "        season = \"Spring\"\n",
    "    elif month in [\"June\", \"July\", \"August\"]:\n",
    "        season = \"Summer\"       \n",
    "    else:\n",
    "        season = \"The function expects a month input.\"\n",
    "    return season\n",
    "\n",
    "print(check_season('June'))    # Summer"
   ]
  },
  {
   "cell_type": "markdown",
   "metadata": {},
   "source": [
    "Task 6: Write a function called calculate_slope which return the slope of a linear equation"
   ]
  },
  {
   "cell_type": "code",
   "execution_count": null,
   "metadata": {},
   "outputs": [],
   "source": [
    "def calculate_slope(x1, y1, x2, y2):\n",
    "    \"\"\"Calculate the slope between two points.\"\"\"\n",
    "    return (y2 - y1) / (x2 - x1)\n",
    "\n",
    "print(calculate_slope(2, 2, 6, 10))    # 2.0"
   ]
  },
  {
   "cell_type": "markdown",
   "metadata": {},
   "source": [
    "Task 7: Quadratic equation is calculated as follows: ax² + bx + c = 0. Write a function which calculates solution set of a quadratic equation, solve_quadratic_eqn."
   ]
  },
  {
   "cell_type": "code",
   "execution_count": null,
   "metadata": {},
   "outputs": [],
   "source": [
    "def solve_quadratic_eqn(a, b, c):\n",
    "    \"\"\"Solves a quadratic equation of the form ax^2 + bx + c = 0\"\"\"\n",
    "    x1 = (-b + (b**2 - 4*a*c)**2)/ (2*a)\n",
    "    x2 = (-b - (b**2 - 4*a*c)**2)/ (2*a)\n",
    "    return x1, x2\n",
    "\n",
    "print(solve_quadratic_eqn(1, -3, 4))    # 26.0, -23.0"
   ]
  },
  {
   "cell_type": "markdown",
   "metadata": {},
   "source": [
    "Task 8: Declare a function named print_list. It takes a list as a parameter and it prints out each element of the list."
   ]
  },
  {
   "cell_type": "code",
   "execution_count": null,
   "metadata": {},
   "outputs": [],
   "source": [
    "def print_list(items):\n",
    "    \"\"\"prints each item in a list.\"\"\"\n",
    "    for item in items:\n",
    "        print(item)\n",
    "\n",
    "print_list(['Python', 'C++', 'Django', 'JavaScript'])   # Python\n",
    "                                                        # C++\n",
    "                                                        # Django\n",
    "                                                        # Javascript"
   ]
  },
  {
   "cell_type": "markdown",
   "metadata": {},
   "source": [
    "Task 9: Declare a function named reverse_list. It takes an array as a parameter and it returns the reverse of the array (use loops)."
   ]
  },
  {
   "cell_type": "markdown",
   "metadata": {},
   "source": [
    "```python\n",
    "print(reverse_list([1, 2, 3, 4, 5]))\n",
    "# [5, 4, 3, 2, 1]\n",
    "print(reverse_list1([\"A\", \"B\", \"C\"]))\n",
    "# [\"C\", \"B\", \"A\"]\n",
    "```"
   ]
  },
  {
   "cell_type": "code",
   "execution_count": null,
   "metadata": {},
   "outputs": [],
   "source": [
    "def reverse_list(items):\n",
    "    \"\"\"Reveese a list of items.\"\"\"\n",
    "    reversed_list = []\n",
    "    while items:\n",
    "        reversed_list.append(items.pop())\n",
    "    return reversed_list\n",
    "\n",
    "print(reverse_list([1, 2, 3, 4, 5]))    # [5, 4, 3, 2, 1]\n",
    "print(reverse_list([\"A\", \"B\", \"C\"]))    # [\"C\", \"B\", \"A\"]"
   ]
  },
  {
   "cell_type": "markdown",
   "metadata": {},
   "source": [
    "Task 10: Declare a function named capitalize_list_items. It takes a list as a parameter and it returns a capitalized list of items"
   ]
  },
  {
   "cell_type": "code",
   "execution_count": null,
   "metadata": {},
   "outputs": [],
   "source": [
    "def capitalize_list_items(items):\n",
    "    \"\"\"Capitalize the items in a list.\"\"\"\n",
    "    capitalized_items = []\n",
    "    index = 0\n",
    "    while index < len(items):\n",
    "        capitalized_items.append(items[index].upper())\n",
    "        index += 1\n",
    "    return capitalized_items\n",
    "\n",
    "print(capitalize_list_items(['Python', 'C++', 'Django', 'JavaScript']))    # ['PYTHON', 'C++', 'DJANGO', 'JAVASCRIPT']"
   ]
  },
  {
   "cell_type": "markdown",
   "metadata": {},
   "source": [
    "Task 11: Declare a function named add_item. It takes a list and an item parameters. It returns a list with the item added at the end."
   ]
  },
  {
   "cell_type": "markdown",
   "metadata": {},
   "source": [
    "```python\n",
    "food_staff = ['Potato', 'Tomato', 'Mango', 'Milk']\n",
    "print(add_item(food_staff, 'Meat'))     # ['Potato', 'Tomato', 'Mango', 'Milk','Meat']\n",
    "numbers = [2, 3, 7, 9]\n",
    "print(add_item(numbers, 5))     # [2, 3, 7, 9, 5]\n",
    "```"
   ]
  },
  {
   "cell_type": "code",
   "execution_count": null,
   "metadata": {},
   "outputs": [],
   "source": [
    "def add_item(list, item):\n",
    "    \"\"\"Add an item to a list and return the list\"\"\"\n",
    "    list.append(item)\n",
    "    return list\n",
    "\n",
    "food_staff = ['Potato', 'Tomato', 'Mango', 'Milk']\n",
    "print(add_item(food_staff, 'Meat'))     # ['Potato', 'Tomato', 'Mango', 'Milk','Meat']\n",
    "numbers = [2, 3, 7, 9]\n",
    "print(add_item(numbers, 5))     # [2, 3, 7, 9, 5]"
   ]
  },
  {
   "cell_type": "markdown",
   "metadata": {},
   "source": [
    "Task 12: Declare a function named remove_item. It takes a list and an item parameters. It returns a list with the item removed from it."
   ]
  },
  {
   "cell_type": "markdown",
   "metadata": {},
   "source": [
    "```python\n",
    "food_staff = ['Potato', 'Tomato', 'Mango', 'Milk']\n",
    "print(remove_item(food_staff, 'Mango'))  # ['Potato', 'Tomato', 'Milk'];\n",
    "numbers = [2, 3, 7, 9]\n",
    "print(remove_item(numbers, 3))  # [2, 7, 9]\n",
    "```"
   ]
  },
  {
   "cell_type": "code",
   "execution_count": null,
   "metadata": {},
   "outputs": [],
   "source": [
    "def remove_item(list, item):\n",
    "    \"\"\"Remove item from list and return the list\"\"\"\n",
    "    list.remove(item)\n",
    "    return list\n",
    "\n",
    "food_staff = ['Potato', 'Tomato', 'Mango', 'Milk']\n",
    "print(remove_item(food_staff, 'Mango'))  # ['Potato', 'Tomato', 'Milk'];\n",
    "numbers = [2, 3, 7, 9]\n",
    "print(remove_item(numbers, 3))  # [2, 7, 9]"
   ]
  },
  {
   "cell_type": "markdown",
   "metadata": {},
   "source": [
    "Task 13: Declare a function named sum_of_numbers. It takes a number parameter and it adds all the numbers in that range."
   ]
  },
  {
   "cell_type": "markdown",
   "metadata": {},
   "source": [
    "```python\n",
    "print(sum_of_numbers(5))  # 15\n",
    "print(sum_of_numbers(10)) # 55\n",
    "print(sum_of_numbers(100)) # 5050\n",
    "```"
   ]
  },
  {
   "cell_type": "code",
   "execution_count": null,
   "metadata": {},
   "outputs": [],
   "source": [
    "def sum_of_numbers(number):\n",
    "    \"\"\"Calculate the sum of all numbers from 0 up to a given number\"\"\"\n",
    "    return number * (number + 1) // 2\n",
    "\n",
    "print(sum_of_numbers(5))  # 15\n",
    "print(sum_of_numbers(10)) # 55\n",
    "print(sum_of_numbers(100)) # 5050"
   ]
  },
  {
   "cell_type": "markdown",
   "metadata": {},
   "source": [
    "Task 14: Declare a function named sum_of_odds. It takes a number parameter and it adds all the odd numbers in that range."
   ]
  },
  {
   "cell_type": "code",
   "execution_count": null,
   "metadata": {},
   "outputs": [],
   "source": [
    "def sum_of_odd(num):\n",
    "    \"\"\"Calculate the sum of odd numbers up to a given number.\"\"\"\n",
    "    total_odd = 0\n",
    "    for i in range(num+1):\n",
    "        if i % 2 != 0:\n",
    "            total_odd += i\n",
    "    \n",
    "    return total_odd\n",
    "\n",
    "print(sum_of_odd(5))  # 9\n",
    "print(sum_of_odd(10)) # 25\n",
    "print(sum_of_odd(100)) # 2500"
   ]
  },
  {
   "cell_type": "markdown",
   "metadata": {},
   "source": [
    "Task 15: Declare a function named sum_of_even. It takes a number parameter and it adds all the even numbers in that - range."
   ]
  },
  {
   "cell_type": "code",
   "execution_count": null,
   "metadata": {},
   "outputs": [],
   "source": [
    "def sum_of_even(number):\n",
    "    \"\"\"Calculate the sum of all even numbers from 0 to a given number\"\"\"\n",
    "    total_even = 0\n",
    "    for i in range(number+1):\n",
    "        if i % 2 == 0:\n",
    "            total_even += i\n",
    "    return total_even\n",
    "\n",
    "print(sum_of_even(5))  # 6\n",
    "print(sum_of_even(10)) # 30\n",
    "print(sum_of_even(100)) # 2550"
   ]
  },
  {
   "cell_type": "markdown",
   "metadata": {},
   "source": [
    "### Exercises: Level 2"
   ]
  },
  {
   "cell_type": "markdown",
   "metadata": {},
   "source": [
    "Task 1: Declare a function named evens_and_odds . It takes a positive integer as parameter and it counts number of evens and odds in the number."
   ]
  },
  {
   "cell_type": "markdown",
   "metadata": {},
   "source": [
    "```python\n",
    "print(evens_and_odds(100))\n",
    "# The number of odds are 50.\n",
    "# The number of evens are 51.\n",
    "```"
   ]
  },
  {
   "cell_type": "code",
   "execution_count": null,
   "metadata": {},
   "outputs": [],
   "source": [
    "def evens_and_odds(number):\n",
    "    \"\"\"Calculate the number of odds and evens in a given number.\"\"\"\n",
    "    number_of_odds = 0\n",
    "    number_of_evens = 0\n",
    "    for i in range(number+1):\n",
    "        if i % 2 == 0:\n",
    "            number_of_evens += 1\n",
    "        else:\n",
    "            number_of_odds += 1  \n",
    "    message = \"The number of odds are \" + str(number_of_odds)\n",
    "    message += \"\\nThe number of evens are \" + str(number_of_evens)\n",
    "    return message\n",
    "\n",
    "print(evens_and_odds(100))  # The number of odds are 50.\n",
    "                            # The number of evens are 51."
   ]
  },
  {
   "cell_type": "markdown",
   "metadata": {},
   "source": [
    "Task 2: Call your function factorial, it takes a whole number as a parameter and it return a factorial of the number"
   ]
  },
  {
   "cell_type": "code",
   "execution_count": null,
   "metadata": {},
   "outputs": [],
   "source": [
    "def factorial(n):\n",
    "    \"\"\"Calculate the factorial of a number.\"\"\"\n",
    "    if n < 0:\n",
    "        return \"Factorial is not defined for negative numbers.\"\n",
    "    elif n == 0:\n",
    "        return 1\n",
    "    else:    \n",
    "        n_factorial = 1\n",
    "        for i in range(1, n+1):\n",
    "            n_factorial *= i\n",
    "        return n_factorial\n",
    "\n",
    "print(factorial(4))  # 24"
   ]
  },
  {
   "cell_type": "markdown",
   "metadata": {},
   "source": [
    "Task 3: Call your function is_empty, it takes a parameter and it checks if it is empty or not"
   ]
  },
  {
   "cell_type": "code",
   "execution_count": null,
   "metadata": {},
   "outputs": [],
   "source": [
    "def is_empty(input=None):\n",
    "    if input == None:\n",
    "        return True\n",
    "    else:\n",
    "        return False\n",
    "\n",
    "print(is_empty())  # True"
   ]
  },
  {
   "cell_type": "markdown",
   "metadata": {},
   "source": [
    "Task 4: Write different functions which take lists. They should calculate_mean, calculate_median, calculate_mode, calculate_range, calculate_variance, calculate_std (standard deviation)."
   ]
  },
  {
   "cell_type": "code",
   "execution_count": null,
   "metadata": {},
   "outputs": [],
   "source": [
    "def calculate_mean(numbers):\n",
    "    \"\"\"Calculate the mean of a list of numbers.\"\"\"\n",
    "    total = sum(numbers)\n",
    "    n = len(numbers)     \n",
    "    return total/n\n",
    "\n",
    "def calculate_median(numbers):\n",
    "    \"\"\"Calculate the median of a list of numbers.\"\"\"\n",
    "    n = len(numbers)\n",
    "    numbers = sorted(numbers)\n",
    "    if n % 2 != 0:\n",
    "        median = numbers[n // 2]\n",
    "    else:\n",
    "        median = (numbers[n // 2 - 1] + numbers[n // 2]) / 2\n",
    "    return median\n",
    "    \n",
    "def calculate_mode(numbers):\n",
    "    \"\"\"Calculate the mode of a list of numbers.\"\"\"\n",
    "    frequency = {}\n",
    "    for number in numbers:\n",
    "        if number not in frequency:\n",
    "            frequency[number] = 1\n",
    "        else:\n",
    "            frequency[number] += 1\n",
    "    mode = 0\n",
    "    max_frequency = 0\n",
    "    for item, freq in frequency.items():\n",
    "        if freq > max_frequency:\n",
    "            mode = item  # New mode found, reset modes to the new mode\n",
    "            max_frequency = freq\n",
    "    return mode\n",
    "\n",
    "def calculate_range(numbers):\n",
    "    \"\"\"Calculate the range of a list of numbers.\"\"\"\n",
    "    numbers = sorted(numbers)\n",
    "    return numbers[-1] - numbers[0]\n",
    "\n",
    "def calculate_variance(numbers):\n",
    "    \"\"\"Calculate the variance of a list of numbers.\"\"\"\n",
    "    mean = calculate_mean(numbers)\n",
    "    n = len(numbers)\n",
    "    return sum((x - mean) ** 2 for x in numbers) / n\n",
    "\n",
    "def calculate_std(numbers):\n",
    "    \"\"\"Calculate the standard deviation of a list of numbers.\"\"\"\n",
    "    return calculate_variance(numbers) ** 0.5\n",
    "\n",
    "ages = [18, 17, 15, 18, 20, 19, 18, 17]\n",
    "mean = calculate_mean(ages)\n",
    "print(f\"The mean of {ages} is {mean}\")    # The mean of [18, 17, 15, 18, 20, 19, 18, 17] is 17.75\n",
    "\n",
    "\n",
    "median = calculate_median(ages)\n",
    "print(f\"The median of {ages} is {median}\")    # The median of [18, 17, 15, 18, 20, 19, 18, 17] is 18.0\n",
    "\n",
    "\n",
    "mode = calculate_mode(ages)\n",
    "print(f\"The mode of {ages} is {mode}\")    # The mode of [18, 17, 15, 18, 20, 19, 18, 17] is 18\n",
    "\n",
    "range = calculate_range(ages)\n",
    "print(f\"The range of {ages} is {range}\")    # The range of [18, 17, 15, 18, 20, 19, 18, 17] is 5\n",
    "\n",
    "variance = calculate_variance(ages)\n",
    "print(f\"The variance of {ages} is {variance}\")    # The variance of [18, 17, 15, 18, 20, 19, 18, 17] is 1.94\n",
    "\n",
    "std = calculate_std(ages)\n",
    "print(f\"The standard deviation of {ages} is {std}\")    # The standard deviation of [18, 17, 15, 18, 20, 19, 18, 17] is 1.48"
   ]
  },
  {
   "cell_type": "markdown",
   "metadata": {},
   "source": [
    "### Excercises: Level 3"
   ]
  },
  {
   "cell_type": "markdown",
   "metadata": {},
   "source": [
    "Task 1: Write a function called is_prime, which checks if a number is prime."
   ]
  },
  {
   "cell_type": "code",
   "execution_count": null,
   "metadata": {},
   "outputs": [],
   "source": [
    "def is_prime(n):\n",
    "    \"\"\"Check if a number is prime.\"\"\"\n",
    "    if n < 2:\n",
    "        return False\n",
    "    for i in range(2, n):\n",
    "        if n % i == 0:\n",
    "            return False\n",
    "    return True\n",
    "\n",
    "print(is_prime(11))    # True"
   ]
  },
  {
   "cell_type": "markdown",
   "metadata": {},
   "source": [
    "Task 2: Write a functions which checks if all items are unique in the list."
   ]
  },
  {
   "cell_type": "code",
   "execution_count": null,
   "metadata": {},
   "outputs": [],
   "source": [
    "def is_unique(items):\n",
    "    \"\"\"Check if all items in a list are unique.\"\"\"\n",
    "    unique_list = []\n",
    "    for item in items:\n",
    "        if item in unique_list:\n",
    "            return False\n",
    "        else:\n",
    "            unique_list.append(item)\n",
    "    return True\n",
    "\n",
    "print(is_unique([1, 2, 3, 4, 5, 6, 7, 8, 9, 10]))    # True"
   ]
  },
  {
   "cell_type": "markdown",
   "metadata": {},
   "source": [
    "Task 3: Write a function which checks if all the items of the list are of the same data type."
   ]
  },
  {
   "cell_type": "code",
   "execution_count": null,
   "metadata": {},
   "outputs": [],
   "source": [
    "def is_same_type(items):\n",
    "    \"\"\"Check if all items in a list are of the same type.\"\"\"\n",
    "    if len(set([type(item) for item in items])) == 1:\n",
    "        return True\n",
    "    else:\n",
    "        return False\n",
    "    \n",
    "print(is_same_type([1, 2, 3, 4, 5]))    # True"
   ]
  },
  {
   "cell_type": "markdown",
   "metadata": {},
   "source": [
    "Task 4: Write a function which check if provided variable is a valid python variable"
   ]
  },
  {
   "cell_type": "code",
   "execution_count": null,
   "metadata": {},
   "outputs": [],
   "source": [
    "import string\n",
    "\n",
    "def is_valid_variable(name):\n",
    "    \"\"\"Check if a string is a valid variable name.\"\"\"\n",
    "    if name[0].isdigit():\n",
    "        return False\n",
    "    for char in name:\n",
    "        if char not in string.ascii_letters + string.digits + '_':\n",
    "            return False\n",
    "    return True\n",
    "\n",
    "print(is_valid_variable('Python'))    # True\n",
    "print(is_valid_variable('123Python')) # False\n",
    "print(is_valid_variable('Python!'))   # False"
   ]
  },
  {
   "cell_type": "markdown",
   "metadata": {},
   "source": [
    "Task 5: Go to the data folder and access the countries-data.py file."
   ]
  },
  {
   "cell_type": "markdown",
   "metadata": {},
   "source": [
    "- Create a function called the most_spoken_languages in the world. It should return 10 or 20 most spoken languages in the world in descending order"
   ]
  },
  {
   "cell_type": "markdown",
   "metadata": {},
   "source": [
    "- Create a function called the most_populated_countries. It should return 10 or 20 most populated countries in descending order."
   ]
  }
 ],
 "metadata": {
  "kernelspec": {
   "display_name": "base",
   "language": "python",
   "name": "python3"
  },
  "language_info": {
   "codemirror_mode": {
    "name": "ipython",
    "version": 3
   },
   "file_extension": ".py",
   "mimetype": "text/x-python",
   "name": "python",
   "nbconvert_exporter": "python",
   "pygments_lexer": "ipython3",
   "version": "3.12.3"
  }
 },
 "nbformat": 4,
 "nbformat_minor": 2
}
