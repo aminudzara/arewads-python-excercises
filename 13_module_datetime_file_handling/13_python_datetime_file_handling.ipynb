{
 "cells": [
  {
   "cell_type": "markdown",
   "metadata": {},
   "source": [
    "# Python Datatime and File Handling"
   ]
  },
  {
   "cell_type": "markdown",
   "metadata": {},
   "source": [
    "## Python Datetime Exercises:"
   ]
  },
  {
   "cell_type": "markdown",
   "metadata": {},
   "source": [
    "Task1: Get the current day, month, year, hour, minute and timestamp from datetime module"
   ]
  },
  {
   "cell_type": "code",
   "execution_count": null,
   "metadata": {},
   "outputs": [],
   "source": []
  },
  {
   "cell_type": "markdown",
   "metadata": {},
   "source": [
    "Task 2: Format the current date using this format: \"%m/%d/%Y, %H:%M:%S\")"
   ]
  },
  {
   "cell_type": "code",
   "execution_count": null,
   "metadata": {},
   "outputs": [],
   "source": []
  },
  {
   "cell_type": "markdown",
   "metadata": {},
   "source": [
    "Task 3: Today is 5 December, 2019. Change this time string to time."
   ]
  },
  {
   "cell_type": "code",
   "execution_count": null,
   "metadata": {},
   "outputs": [],
   "source": []
  },
  {
   "cell_type": "markdown",
   "metadata": {},
   "source": [
    "Task 4: Calculate the time difference between now and new year."
   ]
  },
  {
   "cell_type": "code",
   "execution_count": null,
   "metadata": {},
   "outputs": [],
   "source": []
  },
  {
   "cell_type": "markdown",
   "metadata": {},
   "source": [
    "Task 5: Calculate the time difference between 1 January 1970 and now."
   ]
  },
  {
   "cell_type": "code",
   "execution_count": null,
   "metadata": {},
   "outputs": [],
   "source": []
  },
  {
   "cell_type": "markdown",
   "metadata": {},
   "source": [
    "Task 6: Think, what can you use the datetime module for? Examples:"
   ]
  },
  {
   "cell_type": "markdown",
   "metadata": {},
   "source": [
    "- Time series analysis\n",
    "- To get a timestamp of any activities in an application\n",
    "- Adding posts on a blog "
   ]
  },
  {
   "cell_type": "markdown",
   "metadata": {},
   "source": [
    "## File Handling Exercises:"
   ]
  },
  {
   "cell_type": "markdown",
   "metadata": {},
   "source": [
    "### Exercises: Level 1"
   ]
  },
  {
   "cell_type": "markdown",
   "metadata": {},
   "source": [
    "Task 1: Write a function which count number of lines and number of words in a text. All the files are in the data the folder: a) Read obama_speech.txt file and count number of lines and words b) Read michelle_obama_speech.txt file and count number of lines and words c) Read donald_speech.txt file and count number of lines and words d) Read melina_trump_speech.txt file and count number of lines and words"
   ]
  },
  {
   "cell_type": "code",
   "execution_count": null,
   "metadata": {},
   "outputs": [],
   "source": [
    "from pathlib import Path\n",
    "\n",
    "def count_lines_and_words(file):\n",
    "    path = Path(file)\n",
    "    content = path.read_text()\n",
    "    lines = content.splitlines()\n",
    "    words = content.split()\n",
    "    return len(lines), len(words)\n",
    "\n",
    "obama_speech_stats = count_lines_and_words('../data/obama_speech.txt')\n",
    "print(\n",
    "    f\"The Obama speech has {obama_speech_stats[0]} \"\n",
    "    f\"lines and {obama_speech_stats[1]} words.\"\n",
    ")\n",
    "\n",
    "michelle_speech_stats = count_lines_and_words('../data/michelle_obama_speech.txt')\n",
    "print(\n",
    "    f\"The Obama speech has {michelle_speech_stats[0]} \"\n",
    "    f\"lines and {michelle_speech_stats[1]} words.\"\n",
    ")\n",
    "\n",
    "donald_speech_stats = count_lines_and_words('../data/donald_speech.txt')\n",
    "print(\n",
    "    f\"The Obama speech has {donald_speech_stats[0]} \"\n",
    "    f\"lines and {donald_speech_stats[1]} words.\"\n",
    ")\n",
    "\n",
    "melina_speech_stats = count_lines_and_words('../data/melina_trump_speech.txt')\n",
    "print(\n",
    "    f\"The Obama speech has {melina_speech_stats[0]} \"\n",
    "    f\"lines and {melina_speech_stats[1]} words.\"\n",
    ")"
   ]
  },
  {
   "cell_type": "markdown",
   "metadata": {},
   "source": [
    "Task 2: Read the countries_data.json data file in data directory, create a function that finds the ten most spoken languages"
   ]
  },
  {
   "cell_type": "code",
   "execution_count": null,
   "metadata": {},
   "outputs": [],
   "source": [
    "import json\n",
    "from pathlib import Path\n",
    "from collections import Counter\n",
    "\n",
    "def ten_most_spoken_languages(countries):\n",
    "    language_counter = Counter()\n",
    "    for country in countries:\n",
    "        languages = country['languages']\n",
    "        language_counter.update(languages)\n",
    "    return language_counter.most_common(10)\n",
    "\n",
    "path = Path('../data/countries_data.json')\n",
    "countries_data = json.loads(path.read_text())\n",
    "\n",
    "most_spoken_languages = ten_most_spoken_languages(countries_data)\n",
    "print(most_spoken_languages)"
   ]
  },
  {
   "cell_type": "markdown",
   "metadata": {},
   "source": [
    "Task 3: Read the countries_data.json data file in data directory, create a function that creates a list of the ten most populated countries"
   ]
  },
  {
   "cell_type": "code",
   "execution_count": null,
   "metadata": {},
   "outputs": [],
   "source": [
    "import json\n",
    "from pathlib import Path\n",
    "\n",
    "def ten_most_populated_countries(countries):\n",
    "    sorted_countries = sorted(countries, key=lambda x:\n",
    "                              x['population'], reverse=True)\n",
    "    return sorted_countries[:10]\n",
    "\n",
    "path = Path('../data/countries_data.json')\n",
    "countries_data = json.loads(path.read_text())\n",
    "\n",
    "most_populated_countries = ten_most_populated_countries(countries_data)\n",
    "for country in most_populated_countries:\n",
    "    print(f\"{country['name']}: {country['population']}\")"
   ]
  },
  {
   "cell_type": "markdown",
   "metadata": {},
   "source": [
    "### Exercises: Level 2"
   ]
  },
  {
   "cell_type": "markdown",
   "metadata": {},
   "source": [
    "Task 4: Extract all incoming email addresses as a list from the email_exchange_big.txt file."
   ]
  },
  {
   "cell_type": "code",
   "execution_count": null,
   "metadata": {},
   "outputs": [],
   "source": [
    "import re\n",
    "from pathlib import Path\n",
    "\n",
    "path = Path('../data/email_exchanges_big.txt')\n",
    "content = path.read_text()\n",
    "lines = content.splitlines()\n",
    "email_addresses = []\n",
    "for line in lines:\n",
    "    email_addresses.extend(re.findall(r'\\b\\w+@\\w+\\.\\w+\\b', line)) # use regular\n",
    "    # expression to find email addresses\n",
    "print(email_addresses)"
   ]
  },
  {
   "cell_type": "markdown",
   "metadata": {},
   "source": [
    "Task 5: Find the most common words in the English language. Call the name of your function find_most_common_words, it will take two parameters - a string or a file and a positive integer, indicating the number of words. Your function will return an array of tuples in descending order. Check the output"
   ]
  },
  {
   "cell_type": "code",
   "execution_count": null,
   "metadata": {},
   "outputs": [],
   "source": [
    "from collections import Counter\n",
    "from pathlib import Path\n",
    "\n",
    "def find_most_common_words(source, n):\n",
    "    \"\"\"Return the n most common words in a string or file.\"\"\"\n",
    "    if isinstance(source, str):\n",
    "        content = source\n",
    "    elif isinstance(source, Path):\n",
    "        content = source.read_text(encoding='utf-8')\n",
    "    else:\n",
    "        raise ValueError(\"The first argument must be a string or a Path object.\")\n",
    "\n",
    "    words = content.split()\n",
    "    word_counter = Counter()\n",
    "    for word in words:\n",
    "        # Clean and normalize the word\n",
    "        clean_word = ''.join(char for char in word if char.isalnum()).lower()\n",
    "        if clean_word:  # Ignore empty strings\n",
    "            word_counter[clean_word] += 1\n",
    "\n",
    "    return word_counter.most_common(n)"
   ]
  },
  {
   "cell_type": "markdown",
   "metadata": {},
   "source": [
    "Task 6: Use the function, find_most_frequent_words to find: a) The ten most frequent words used in Obama's speech b) The ten most frequent words used in Michelle's speech c) The ten most frequent words used in Trump's speech d) The ten most frequent words used in Melina's speech"
   ]
  },
  {
   "cell_type": "code",
   "execution_count": null,
   "metadata": {},
   "outputs": [],
   "source": [
    "from pathlib import Path\n",
    "\n",
    "path = Path('../data/obama_speech.txt')\n",
    "most_common_words = find_most_common_words(path, 10)\n",
    "print(\"Top 10 most common words in Obama's speech:\", most_common_words)\n",
    "\n",
    "path = Path('../data/michelle_obama_speech.txt')\n",
    "most_common_words = find_most_common_words(path, 10)\n",
    "print(\"Top 10 most common words in Michelle Obama's speech:\", most_common_words)\n",
    "\n",
    "path = Path('../data/donald_speech.txt')\n",
    "most_common_words = find_most_common_words(path, 10)\n",
    "print(\"Top 10 most common words in Donald Trump's speech:\", most_common_words)\n",
    "\n",
    "path = Path('../data/melina_trump_speech.txt')\n",
    "most_common_words = find_most_common_words(path, 10)\n",
    "print(\"Top 10 most common words in Melina Trump's speech:\", most_common_words)"
   ]
  },
  {
   "cell_type": "markdown",
   "metadata": {},
   "source": [
    "Task 7: Write a python application that checks similarity between two texts. It takes a file or a string as a parameter and it will evaluate the similarity of the two texts. For instance check the similarity between the transcripts of Michelle's and Melina's speech. You may need a couple of functions, function to clean the text(clean_text), function to remove support words(remove_support_words) and finally to check the similarity(check_text_similarity). List of stop words are in the data directory"
   ]
  },
  {
   "cell_type": "code",
   "execution_count": null,
   "metadata": {},
   "outputs": [],
   "source": []
  },
  {
   "cell_type": "markdown",
   "metadata": {},
   "source": [
    "Task 8: Find the 10 most repeated words in the romeo_and_juliet.txt"
   ]
  },
  {
   "cell_type": "code",
   "execution_count": null,
   "metadata": {},
   "outputs": [],
   "source": []
  },
  {
   "cell_type": "markdown",
   "metadata": {},
   "source": [
    "Task 9: Read the hacker news csv file and find out: a) Count the number of lines containing python or Python b) Count the number lines containing JavaScript, javascript or Javascript c) Count the number lines containing Java and not JavaScript"
   ]
  },
  {
   "cell_type": "code",
   "execution_count": null,
   "metadata": {},
   "outputs": [],
   "source": []
  }
 ],
 "metadata": {
  "kernelspec": {
   "display_name": "Python 3",
   "language": "python",
   "name": "python3"
  },
  "language_info": {
   "codemirror_mode": {
    "name": "ipython",
    "version": 3
   },
   "file_extension": ".py",
   "mimetype": "text/x-python",
   "name": "python",
   "nbconvert_exporter": "python",
   "pygments_lexer": "ipython3",
   "version": "3.11.0"
  },
  "vscode": {
   "interpreter": {
    "hash": "dde17c2c6707ec0566106c25c879410abe68985b2542d38956b301b722ad5533"
   }
  }
 },
 "nbformat": 4,
 "nbformat_minor": 2
}
